{
 "cells": [
  {
   "cell_type": "code",
   "execution_count": 104,
   "metadata": {
    "collapsed": false
   },
   "outputs": [],
   "source": [
    "# Matt Grant \n",
    "# 9/17/2105\n",
    "# Data Analysis: Capital One, Use transaction data to categorize clients\n",
    "\n",
    "import pandas as pd\n",
    "import numpy as np\n",
    "from datetime import datetime\n",
    "%matplotlib inline \n",
    "style.use('ggplot')\n",
    "\n",
    "#Using the transactions data attached below, write a script in \n",
    "#Python,that outputs a list of subscription IDs,their subscription \n",
    "#type (daily, monthly, yearly, one-off), and the duration of their \n",
    "#subscription.\n",
    "# Subscription ID, Type , Duration \n",
    "#    3159        , Monthly, 900 days \n",
    "\n",
    "#Bounus\n",
    "#1. Give annual revenue numbers for all years between 1966 and 2014. \n",
    "#Which years had the highest revenue growth, and highest revenue loss?\n",
    "\n",
    "\n",
    "#2. Predict annual revenue for year 2015 (based on historical retention and new subscribers)"
   ]
  },
  {
   "cell_type": "code",
   "execution_count": 3,
   "metadata": {
    "collapsed": false
   },
   "outputs": [],
   "source": [
    "#Import data into pandas dataframe\n",
    "data = pd.read_csv('../Data Science/CapitalOneScript/subscription_report.csv')"
   ]
  },
  {
   "cell_type": "code",
   "execution_count": 4,
   "metadata": {
    "collapsed": false
   },
   "outputs": [
    {
     "data": {
      "text/html": [
       "<div style=\"max-height:1000px;max-width:1500px;overflow:auto;\">\n",
       "<table border=\"1\" class=\"dataframe\">\n",
       "  <thead>\n",
       "    <tr style=\"text-align: right;\">\n",
       "      <th></th>\n",
       "      <th>Id</th>\n",
       "      <th>Subscription ID</th>\n",
       "      <th>Amount (USD)</th>\n",
       "      <th>Transaction Date</th>\n",
       "    </tr>\n",
       "  </thead>\n",
       "  <tbody>\n",
       "    <tr>\n",
       "      <th>0</th>\n",
       "      <td>1235</td>\n",
       "      <td>15447</td>\n",
       "      <td>1900</td>\n",
       "      <td>01/01/1966</td>\n",
       "    </tr>\n",
       "    <tr>\n",
       "      <th>1</th>\n",
       "      <td>1236</td>\n",
       "      <td>30674</td>\n",
       "      <td>7280</td>\n",
       "      <td>01/01/1966</td>\n",
       "    </tr>\n",
       "    <tr>\n",
       "      <th>2</th>\n",
       "      <td>1237</td>\n",
       "      <td>5293</td>\n",
       "      <td>3260</td>\n",
       "      <td>01/01/1966</td>\n",
       "    </tr>\n",
       "    <tr>\n",
       "      <th>3</th>\n",
       "      <td>1238</td>\n",
       "      <td>33782</td>\n",
       "      <td>4060</td>\n",
       "      <td>01/02/1966</td>\n",
       "    </tr>\n",
       "    <tr>\n",
       "      <th>4</th>\n",
       "      <td>1239</td>\n",
       "      <td>56714</td>\n",
       "      <td>6370</td>\n",
       "      <td>01/02/1966</td>\n",
       "    </tr>\n",
       "  </tbody>\n",
       "</table>\n",
       "</div>"
      ],
      "text/plain": [
       "     Id  Subscription ID  Amount (USD) Transaction Date\n",
       "0  1235            15447          1900       01/01/1966\n",
       "1  1236            30674          7280       01/01/1966\n",
       "2  1237             5293          3260       01/01/1966\n",
       "3  1238            33782          4060       01/02/1966\n",
       "4  1239            56714          6370       01/02/1966"
      ]
     },
     "execution_count": 4,
     "metadata": {},
     "output_type": "execute_result"
    }
   ],
   "source": [
    "# Explore data\n",
    "data.head()"
   ]
  },
  {
   "cell_type": "code",
   "execution_count": 5,
   "metadata": {
    "collapsed": false
   },
   "outputs": [
    {
     "data": {
      "text/plain": [
       "(779999, 4)"
      ]
     },
     "execution_count": 5,
     "metadata": {},
     "output_type": "execute_result"
    }
   ],
   "source": [
    "data.shape"
   ]
  },
  {
   "cell_type": "code",
   "execution_count": 6,
   "metadata": {
    "collapsed": true
   },
   "outputs": [],
   "source": [
    "# Set Transaction Date as time data type\n",
    "# YYYY - MM - DD\n",
    "data['Transaction Date'] = pd.to_datetime(data['Transaction Date'])"
   ]
  },
  {
   "cell_type": "code",
   "execution_count": 7,
   "metadata": {
    "collapsed": false
   },
   "outputs": [
    {
     "data": {
      "text/plain": [
       "dtype('<M8[ns]')"
      ]
     },
     "execution_count": 7,
     "metadata": {},
     "output_type": "execute_result"
    }
   ],
   "source": [
    "# Verify correct data type \n",
    "data['Transaction Date'].dtype"
   ]
  },
  {
   "cell_type": "code",
   "execution_count": 8,
   "metadata": {
    "collapsed": false
   },
   "outputs": [
    {
     "data": {
      "text/plain": [
       "Id                  0\n",
       "Subscription ID     0\n",
       "Amount (USD)        0\n",
       "Transaction Date    0\n",
       "dtype: int64"
      ]
     },
     "execution_count": 8,
     "metadata": {},
     "output_type": "execute_result"
    }
   ],
   "source": [
    "# Look for any null values\n",
    "data.isnull().sum()"
   ]
  },
  {
   "cell_type": "code",
   "execution_count": 147,
   "metadata": {
    "collapsed": false
   },
   "outputs": [
    {
     "data": {
      "text/plain": [
       "<matplotlib.text.Text at 0x115337bd0>"
      ]
     },
     "execution_count": 147,
     "metadata": {},
     "output_type": "execute_result"
    },
    {
     "data": {
      "image/png": "[encoded data removed]",
      "text/plain": [
       "<matplotlib.figure.Figure at 0x114cf6b10>"
      ]
     },
     "metadata": {},
     "output_type": "display_data"
    }
   ],
   "source": [
    "#Distribution of Subscriber for # of transactions(min:1 (one-off), max 91)\n",
    "data['Subscription ID'].value_counts().plot(kind='hist', bins=20, )\n",
    "ylabel('Subscribers')\n",
    "xlabel('Number of Transactions')\n",
    "title('Distribution of Subscriber per # of transactions')"
   ]
  },
  {
   "cell_type": "code",
   "execution_count": 140,
   "metadata": {
    "collapsed": false
   },
   "outputs": [],
   "source": [
    "# Sort data by 'Subscription ID' and date & re-index \n",
    "data.sort(['Subscription ID','Transaction Date'], inplace=True)\n",
    "data.index = range(1,len(data) + 1)"
   ]
  },
  {
   "cell_type": "code",
   "execution_count": 141,
   "metadata": {
    "collapsed": false
   },
   "outputs": [],
   "source": [
    "#Create a column for the year in which the transaction occured \n",
    "data['Year'] = [datetime.year for datetime in data['Transaction Date']]"
   ]
  },
  {
   "cell_type": "code",
   "execution_count": 142,
   "metadata": {
    "collapsed": false
   },
   "outputs": [
    {
     "data": {
      "text/html": [
       "<div style=\"max-height:1000px;max-width:1500px;overflow:auto;\">\n",
       "<table border=\"1\" class=\"dataframe\">\n",
       "  <thead>\n",
       "    <tr style=\"text-align: right;\">\n",
       "      <th></th>\n",
       "      <th>Id</th>\n",
       "      <th>Subscription ID</th>\n",
       "      <th>Amount (USD)</th>\n",
       "      <th>Transaction Date</th>\n",
       "      <th>Year</th>\n",
       "    </tr>\n",
       "  </thead>\n",
       "  <tbody>\n",
       "    <tr>\n",
       "      <th>779995</th>\n",
       "      <td>689487</td>\n",
       "      <td>58376</td>\n",
       "      <td>6820</td>\n",
       "      <td>1992-03-01</td>\n",
       "      <td>1992</td>\n",
       "    </tr>\n",
       "    <tr>\n",
       "      <th>779996</th>\n",
       "      <td>705627</td>\n",
       "      <td>58376</td>\n",
       "      <td>6820</td>\n",
       "      <td>1993-03-01</td>\n",
       "      <td>1993</td>\n",
       "    </tr>\n",
       "    <tr>\n",
       "      <th>779997</th>\n",
       "      <td>718165</td>\n",
       "      <td>58376</td>\n",
       "      <td>6820</td>\n",
       "      <td>1994-03-01</td>\n",
       "      <td>1994</td>\n",
       "    </tr>\n",
       "    <tr>\n",
       "      <th>779998</th>\n",
       "      <td>727838</td>\n",
       "      <td>58376</td>\n",
       "      <td>6820</td>\n",
       "      <td>1995-03-01</td>\n",
       "      <td>1995</td>\n",
       "    </tr>\n",
       "    <tr>\n",
       "      <th>779999</th>\n",
       "      <td>735242</td>\n",
       "      <td>58376</td>\n",
       "      <td>6820</td>\n",
       "      <td>1996-03-01</td>\n",
       "      <td>1996</td>\n",
       "    </tr>\n",
       "  </tbody>\n",
       "</table>\n",
       "</div>"
      ],
      "text/plain": [
       "            Id  Subscription ID  Amount (USD) Transaction Date  Year\n",
       "779995  689487            58376          6820       1992-03-01  1992\n",
       "779996  705627            58376          6820       1993-03-01  1993\n",
       "779997  718165            58376          6820       1994-03-01  1994\n",
       "779998  727838            58376          6820       1995-03-01  1995\n",
       "779999  735242            58376          6820       1996-03-01  1996"
      ]
     },
     "execution_count": 142,
     "metadata": {},
     "output_type": "execute_result"
    }
   ],
   "source": [
    "data.tail()"
   ]
  },
  {
   "cell_type": "code",
   "execution_count": 143,
   "metadata": {
    "collapsed": false
   },
   "outputs": [
    {
     "name": "stdout",
     "output_type": "stream",
     "text": [
      "[array([ 3159,  3160,  3164, ..., 58372, 58374, 58376])] 27609\n"
     ]
    }
   ],
   "source": [
    "#Create a list of Subscription IDs  27,609 Unique IDs\n",
    "IDs = [data['Subscription ID'].unique()]\n",
    "print IDs, len(IDs[0])"
   ]
  },
  {
   "cell_type": "code",
   "execution_count": 144,
   "metadata": {
    "collapsed": false
   },
   "outputs": [
    {
     "data": {
      "text/plain": [
       "3159"
      ]
     },
     "execution_count": 144,
     "metadata": {},
     "output_type": "execute_result"
    }
   ],
   "source": [
    "IDs[0][0]"
   ]
  },
  {
   "cell_type": "code",
   "execution_count": 224,
   "metadata": {
    "collapsed": false
   },
   "outputs": [
    {
     "data": {
      "text/plain": [
       "155   1978-08-25\n",
       "156   1978-08-26\n",
       "157   1978-08-27\n",
       "158   1978-08-28\n",
       "159   1978-08-29\n",
       "160   1978-08-30\n",
       "161   1978-08-31\n",
       "162   1978-09-01\n",
       "163   1978-09-02\n",
       "164   1978-09-03\n",
       "165   1978-09-04\n",
       "166   1978-09-05\n",
       "167   1978-09-06\n",
       "168   1978-09-07\n",
       "169   1978-09-08\n",
       "170   1978-09-09\n",
       "171   1978-09-10\n",
       "172   1978-09-11\n",
       "173   1978-09-12\n",
       "174   1978-09-13\n",
       "175   1978-09-14\n",
       "176   1978-09-15\n",
       "177   1978-09-16\n",
       "178   1978-09-17\n",
       "179   1978-09-18\n",
       "180   1978-09-19\n",
       "181   1978-09-20\n",
       "182   1978-09-21\n",
       "183   1978-09-22\n",
       "184   1978-09-23\n",
       "185   1978-09-24\n",
       "Name: Transaction Date, dtype: datetime64[ns]"
      ]
     },
     "execution_count": 224,
     "metadata": {},
     "output_type": "execute_result"
    }
   ],
   "source": [
    "#Code Check (Find all rows in DataFrame where \n",
    "ID = data[data['Subscription ID'] == IDs[0][3]]\n",
    "ID['Transaction Date']#.iloc[0]"
   ]
  },
  {
   "cell_type": "code",
   "execution_count": 223,
   "metadata": {
    "collapsed": false
   },
   "outputs": [
    {
     "name": "stdout",
     "output_type": "stream",
     "text": [
      "ID: 3165 Duration: 30 days 00:00:00  Number of Transactions: 31  Transaction Type: 0 days 23:13:32.903225\n"
     ]
    }
   ],
   "source": [
    "# Test logic  \n",
    "# ex ID 3168  == one transaction 'One off'\n",
    "# ex ID 3180  == 34 transaction over 12054 days == 'Yearly' \n",
    "# ex ID 3159  == 84 transaction over 2557 days == 'Monthly' \n",
    "# ex ID xxxx  == ?? transaction over ?? days == 'daily' \n",
    "\n",
    "\n",
    "IDdata = data[data['Subscription ID'] == 3165] #ID \n",
    "IDID = IDdata['Subscription ID'].iloc[0]\n",
    "nrow = len(IDdata)\n",
    "deltaT = IDdata['Transaction Date'].iloc[nrow-1]-IDdata['Transaction Date'].iloc[0]\n",
    "duration = deltaT/nrow\n",
    "#print ID\n",
    "\n",
    "# add this to a new data frame? \n",
    "print \"ID:\",IDID , \"Duration:\", deltaT, \" Number of Transactions:\", nrow, \" Transaction Type:\",duration "
   ]
  },
  {
   "cell_type": "code",
   "execution_count": 19,
   "metadata": {
    "collapsed": false
   },
   "outputs": [
    {
     "data": {
      "text/html": [
       "<div style=\"max-height:1000px;max-width:1500px;overflow:auto;\">\n",
       "<table border=\"1\" class=\"dataframe\">\n",
       "  <thead>\n",
       "    <tr style=\"text-align: right;\">\n",
       "      <th></th>\n",
       "      <th>Subscription ID</th>\n",
       "      <th>Duration</th>\n",
       "      <th>Type</th>\n",
       "    </tr>\n",
       "  </thead>\n",
       "  <tbody>\n",
       "  </tbody>\n",
       "</table>\n",
       "</div>"
      ],
      "text/plain": [
       "Empty DataFrame\n",
       "Columns: [Subscription ID, Duration, Type]\n",
       "Index: []"
      ]
     },
     "execution_count": 19,
     "metadata": {},
     "output_type": "execute_result"
    }
   ],
   "source": [
    "results = pd.DataFrame(columns =['Subscription ID','Duration','Type',])\n",
    "results.head()"
   ]
  },
  {
   "cell_type": "code",
   "execution_count": 237,
   "metadata": {
    "collapsed": false
   },
   "outputs": [
    {
     "data": {
      "text/plain": [
       "<pandas.core.groupby.DataFrameGroupBy object at 0x114c207d0>"
      ]
     },
     "execution_count": 237,
     "metadata": {},
     "output_type": "execute_result"
    }
   ],
   "source": [
    "_3160 = data.groupby(data['Subscription ID'] == 3160)\n",
    "_3160"
   ]
  },
  {
   "cell_type": "code",
   "execution_count": 251,
   "metadata": {
    "collapsed": false
   },
   "outputs": [
    {
     "name": "stdout",
     "output_type": "stream",
     "text": [
      "complete\n"
     ]
    }
   ],
   "source": [
    "IDCol = [0]*27609\n",
    "nrowCol = [0]*27609\n",
    "deltaTcol=[0]*27609\n",
    "durationCol=[0]*27609\n",
    "TypeCol=[0]*27609\n",
    "\n",
    "for item in range(27609): #27609 elements\n",
    "    \n",
    "    IDdata = data[data['Subscription ID'] == IDs[0][item]]\n",
    "    ID = IDdata['Subscription ID'].iloc[0]#IDs[0][item] \n",
    "    nrow = IDdata.shape[0]\n",
    "    \n",
    "    if nrow > 1:  \n",
    "        deltaT = IDdata['Transaction Date'].iloc[nrow-1] - IDdata['Transaction Date'].iloc[0]\n",
    "        duration = deltaT/nrow\n",
    "    else:\n",
    "        deltaT = pd.to_timedelta('0 days')\n",
    "        duration = pd.to_timedelta('0 days')\n",
    "        tType = 'One Off'\n",
    "        \n",
    "    if duration > pd.to_timedelta('250 days'):\n",
    "        tType = 'Yearly'\n",
    "        \n",
    "    elif duration >= pd.to_timedelta('27 days') and duration <= pd.to_timedelta('32 days'):\n",
    "        tType = 'Monthly'                      \n",
    "        \n",
    "    elif duration > pd.to_timedelta('0 days') and  duration < pd.to_timedelta('2 days'):\n",
    "        tType = 'Daily'\n",
    "    #elif duration == pd.to_timedelta('0 days'):\n",
    "    #    tType ='One Off-v2'\n",
    "    \n",
    "\n",
    "    IDCol[item] = ID\n",
    "    nrowCol[item] = nrow\n",
    "    deltaTcol[item]= deltaT\n",
    "    durationCol[item]= duration\n",
    "    TypeCol[item]= tType\n",
    "    #print ID, nrow, deltaT, duration, tType     \n",
    "    \n",
    "\n",
    "print 'complete'"
   ]
  },
  {
   "cell_type": "code",
   "execution_count": 253,
   "metadata": {
    "collapsed": false
   },
   "outputs": [
    {
     "data": {
      "text/plain": [
       "27609"
      ]
     },
     "execution_count": 253,
     "metadata": {},
     "output_type": "execute_result"
    }
   ],
   "source": [
    "len(IDCol)"
   ]
  },
  {
   "cell_type": "code",
   "execution_count": null,
   "metadata": {
    "collapsed": true
   },
   "outputs": [],
   "source": [
    "del ID[:]\n",
    "del nrow[:]\n",
    "del deltaT[:]\n",
    "del duration[:]\n",
    "del tType[:]"
   ]
  },
  {
   "cell_type": "code",
   "execution_count": 254,
   "metadata": {
    "collapsed": false
   },
   "outputs": [
    {
     "data": {
      "text/html": [
       "<div style=\"max-height:1000px;max-width:1500px;overflow:auto;\">\n",
       "<table border=\"1\" class=\"dataframe\">\n",
       "  <thead>\n",
       "    <tr style=\"text-align: right;\">\n",
       "      <th></th>\n",
       "      <th>Subscription ID</th>\n",
       "      <th>Duration</th>\n",
       "      <th>Type</th>\n",
       "    </tr>\n",
       "  </thead>\n",
       "  <tbody>\n",
       "    <tr>\n",
       "      <th>0</th>\n",
       "      <td>3159</td>\n",
       "      <td>2557 days</td>\n",
       "      <td>Monthly</td>\n",
       "    </tr>\n",
       "    <tr>\n",
       "      <th>1</th>\n",
       "      <td>3160</td>\n",
       "      <td>2038 days</td>\n",
       "      <td>Monthly</td>\n",
       "    </tr>\n",
       "    <tr>\n",
       "      <th>2</th>\n",
       "      <td>3164</td>\n",
       "      <td>0 days</td>\n",
       "      <td>One Off</td>\n",
       "    </tr>\n",
       "    <tr>\n",
       "      <th>3</th>\n",
       "      <td>3165</td>\n",
       "      <td>30 days</td>\n",
       "      <td>Daily</td>\n",
       "    </tr>\n",
       "    <tr>\n",
       "      <th>4</th>\n",
       "      <td>3168</td>\n",
       "      <td>0 days</td>\n",
       "      <td>One Off</td>\n",
       "    </tr>\n",
       "  </tbody>\n",
       "</table>\n",
       "</div>"
      ],
      "text/plain": [
       "   Subscription ID  Duration     Type\n",
       "0             3159 2557 days  Monthly\n",
       "1             3160 2038 days  Monthly\n",
       "2             3164    0 days  One Off\n",
       "3             3165   30 days    Daily\n",
       "4             3168    0 days  One Off"
      ]
     },
     "execution_count": 254,
     "metadata": {},
     "output_type": "execute_result"
    }
   ],
   "source": [
    "results['Subscription ID'] = IDCol\n",
    "results['Duration'] = deltaTcol\n",
    "results['Type'] = TypeCol\n",
    "results.head()"
   ]
  },
  {
   "cell_type": "code",
   "execution_count": 255,
   "metadata": {
    "collapsed": false
   },
   "outputs": [],
   "source": [
    "#Output to csv file\n",
    "results.to_csv(\"CapitalOneTransactions.csv\", index=False, cols=('ID','Type','Duration(Days)'))"
   ]
  },
  {
   "cell_type": "code",
   "execution_count": 116,
   "metadata": {
    "collapsed": false
   },
   "outputs": [
    {
     "name": "stdout",
     "output_type": "stream",
     "text": [
      "Year\n",
      "1966     36431250\n",
      "1967     55206230\n",
      "1968     68890920\n",
      "1969     77045920\n",
      "1970     84949330\n",
      "1971     91189830\n",
      "1972     95586580\n",
      "1973     99383650\n",
      "1974     98744820\n",
      "1975    105504600\n",
      "1976    104622260\n",
      "1977    101857340\n",
      "1978    106251790\n",
      "1979    108166430\n",
      "1980    108528090\n",
      "1981    110106310\n",
      "1982    111565530\n",
      "1983    108256270\n",
      "1984    104525580\n",
      "1985    110577480\n",
      "1986    110139420\n",
      "1987    115754290\n",
      "1988    109618750\n",
      "1989    115033300\n",
      "1990    112381870\n",
      "1991     79165380\n",
      "1992     62355060\n",
      "1993     48719610\n",
      "1994     38032150\n",
      "1995     29052430\n",
      "1996     22347710\n",
      "1997     17567700\n",
      "1998     15106790\n",
      "1999     14109370\n",
      "2000     13263950\n",
      "2001     12343040\n",
      "2002     11398870\n",
      "2003     10515720\n",
      "2004      9611030\n",
      "2005      8762010\n",
      "2006      7859160\n",
      "2007      7068410\n",
      "2008      6140160\n",
      "2009      5344260\n",
      "2010      4590540\n",
      "2011      3694750\n",
      "2012      2736530\n",
      "2013      1778720\n",
      "2014       874770\n",
      "Name: Amount (USD), dtype: int64\n"
     ]
    }
   ],
   "source": [
    "# Total revenue by year in $ \n",
    "revenue_by_year = data['Amount (USD)'].groupby(data['Year']).sum()#\n",
    "print revenue_by_year"
   ]
  },
  {
   "cell_type": "code",
   "execution_count": 134,
   "metadata": {
    "collapsed": false
   },
   "outputs": [
    {
     "data": {
      "image/png": "[encoded data removed]",
      "text/plain": [
       "<matplotlib.figure.Figure at 0x115488bd0>"
      ]
     },
     "metadata": {},
     "output_type": "display_data"
    }
   ],
   "source": [
    "revenue_by_year.plot(title='Revenue Over Time ($100 Million)')\n",
    "rcParams['figure.figsize'] = (10, 6)"
   ]
  },
  {
   "cell_type": "code",
   "execution_count": 132,
   "metadata": {
    "collapsed": false
   },
   "outputs": [
    {
     "data": {
      "image/png": "[encoded data removed]",
      "text/plain": [
       "<matplotlib.figure.Figure at 0x114cdfd10>"
      ]
     },
     "metadata": {},
     "output_type": "display_data"
    }
   ],
   "source": [
    "# Bar chart of revenue chanege per year \n",
    "revenue_by_year.pct_change().plot(kind='bar',title='Percent Revenue Change Per Year')\n",
    "rcParams['figure.figsize'] = (10, 6)\n"
   ]
  },
  {
   "cell_type": "code",
   "execution_count": 264,
   "metadata": {
    "collapsed": false
   },
   "outputs": [
    {
     "name": "stdout",
     "output_type": "stream",
     "text": [
      "Greatest Revenue Growth: 1967\n",
      "Greatest Revenue Loss: 2014\n"
     ]
    },
    {
     "data": {
      "text/plain": [
       "Year\n",
       "2014   -0.508203\n",
       "2013   -0.350009\n",
       "1991   -0.295568\n",
       "2012   -0.259346\n",
       "1995   -0.236109\n",
       "1996   -0.230780\n",
       "1994   -0.219367\n",
       "1993   -0.218674\n",
       "1997   -0.213893\n",
       "1992   -0.212344\n",
       "2011   -0.195138\n",
       "2010   -0.141034\n",
       "1998   -0.140082\n",
       "2008   -0.131324\n",
       "2009   -0.129622\n",
       "2006   -0.103041\n",
       "2007   -0.100615\n",
       "2005   -0.088338\n",
       "2004   -0.086032\n",
       "2003   -0.077477\n",
       "2002   -0.076494\n",
       "2001   -0.069430\n",
       "1999   -0.066025\n",
       "2000   -0.059919\n",
       "1988   -0.053005\n",
       "1984   -0.034462\n",
       "1983   -0.029662\n",
       "1977   -0.026428\n",
       "1990   -0.023049\n",
       "1976   -0.008363\n",
       "1974   -0.006428\n",
       "1986   -0.003962\n",
       "1980    0.003344\n",
       "1982    0.013253\n",
       "1981    0.014542\n",
       "1979    0.018020\n",
       "1973    0.039724\n",
       "1978    0.043143\n",
       "1972    0.048215\n",
       "1989    0.049394\n",
       "1987    0.050980\n",
       "1985    0.057899\n",
       "1975    0.068457\n",
       "1971    0.073461\n",
       "1970    0.102581\n",
       "1969    0.118376\n",
       "1968    0.247883\n",
       "1967    0.515354\n",
       "1966         NaN\n",
       "Name: Amount (USD), dtype: float64"
      ]
     },
     "execution_count": 264,
     "metadata": {},
     "output_type": "execute_result"
    }
   ],
   "source": [
    "# generates percent change and orders series from highest revenue loss to highest revenue growth\n",
    "# 2014 - greatest revenue loss (-58.0%)\n",
    "# 1967 - greatest revenue growth (51.5%)\n",
    "print 'Greatest Revenue Growth:',revenue_by_year.pct_change().idxmax()\n",
    "print 'Greatest Revenue Loss:', revenue_by_year.pct_change().idxmin()\n",
    "revenue_by_year.pct_change().order()"
   ]
  },
  {
   "cell_type": "code",
   "execution_count": 136,
   "metadata": {
    "collapsed": false
   },
   "outputs": [
    {
     "data": {
      "text/plain": [
       "Year\n",
       "1966    1136\n",
       "1967    1783\n",
       "1968    2417\n",
       "1969    2912\n",
       "1970    3406\n",
       "1971    3884\n",
       "1972    4219\n",
       "1973    4565\n",
       "1974    4825\n",
       "1975    5117\n",
       "1976    5297\n",
       "1977    5618\n",
       "1978    5933\n",
       "1979    6172\n",
       "1980    6418\n",
       "1981    6667\n",
       "1982    6896\n",
       "1983    7034\n",
       "1984    7140\n",
       "1985    7382\n",
       "1986    7545\n",
       "1987    7685\n",
       "1988    7875\n",
       "1989    8040\n",
       "1990    8107\n",
       "1991    7187\n",
       "1992    6607\n",
       "1993    6052\n",
       "1994    5571\n",
       "1995    5123\n",
       "1996    4755\n",
       "1997    4380\n",
       "1998    4059\n",
       "1999    3798\n",
       "2000    3573\n",
       "2001    3328\n",
       "2002    3087\n",
       "2003    2851\n",
       "2004    2609\n",
       "2005    2364\n",
       "2006    2100\n",
       "2007    1879\n",
       "2008    1650\n",
       "2009    1434\n",
       "2010    1221\n",
       "2011     976\n",
       "2012     728\n",
       "2013     479\n",
       "2014     239\n",
       "dtype: int64"
      ]
     },
     "execution_count": 136,
     "metadata": {},
     "output_type": "execute_result"
    }
   ],
   "source": [
    "# Total Number of Subscribers per year\n",
    "data['Subscription ID'].groupby(data['Year']).nunique()"
   ]
  },
  {
   "cell_type": "code",
   "execution_count": 137,
   "metadata": {
    "collapsed": false
   },
   "outputs": [
    {
     "data": {
      "text/plain": [
       "Year\n",
       "1966    10044\n",
       "1967    14270\n",
       "1968    18681\n",
       "1969    20862\n",
       "1970    23230\n",
       "1971    24898\n",
       "1972    26110\n",
       "1973    27567\n",
       "1974    27220\n",
       "1975    28755\n",
       "1976    27422\n",
       "1977    27605\n",
       "1978    28748\n",
       "1979    29098\n",
       "1980    29376\n",
       "1981    29560\n",
       "1982    29905\n",
       "1983    29498\n",
       "1984    28876\n",
       "1985    30202\n",
       "1986    29907\n",
       "1987    30598\n",
       "1988    29941\n",
       "1989    31043\n",
       "1990    30353\n",
       "1991    21369\n",
       "1992    16830\n",
       "1993    13096\n",
       "1994    10115\n",
       "1995     7720\n",
       "1996     5990\n",
       "1997     4721\n",
       "1998     4073\n",
       "1999     3798\n",
       "2000     3573\n",
       "2001     3328\n",
       "2002     3087\n",
       "2003     2851\n",
       "2004     2609\n",
       "2005     2364\n",
       "2006     2100\n",
       "2007     1879\n",
       "2008     1650\n",
       "2009     1434\n",
       "2010     1221\n",
       "2011      976\n",
       "2012      728\n",
       "2013      479\n",
       "2014      239\n",
       "Name: Subscription ID, dtype: int64"
      ]
     },
     "execution_count": 137,
     "metadata": {},
     "output_type": "execute_result"
    }
   ],
   "source": [
    "# Total number of transactions per year\n",
    "data['Subscription ID'].groupby(data['Year']).count()"
   ]
  },
  {
   "cell_type": "code",
   "execution_count": null,
   "metadata": {
    "collapsed": true
   },
   "outputs": [],
   "source": []
  }
 ],
 "metadata": {
  "kernelspec": {
   "display_name": "Python 2",
   "language": "python",
   "name": "python2"
  },
  "language_info": {
   "codemirror_mode": {
    "name": "ipython",
    "version": 2
   },
   "file_extension": ".py",
   "mimetype": "text/x-python",
   "name": "python",
   "nbconvert_exporter": "python",
   "pygments_lexer": "ipython2",
   "version": "2.7.9"
  }
 },
 "nbformat": 4,
 "nbformat_minor": 0
}
